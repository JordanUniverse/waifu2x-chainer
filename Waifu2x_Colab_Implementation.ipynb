{
  "nbformat": 4,
  "nbformat_minor": 0,
  "metadata": {
    "colab": {
      "name": "Copy of Waifu2x",
      "provenance": [],
      "collapsed_sections": [],
      "include_colab_link": true
    },
    "kernelspec": {
      "name": "python3",
      "display_name": "Python 3"
    },
    "accelerator": "GPU"
  },
  "cells": [
    {
      "cell_type": "markdown",
      "metadata": {
        "id": "view-in-github",
        "colab_type": "text"
      },
      "source": [
        "<a href=\"https://colab.research.google.com/github/JordanUniverse/waifu2x-chainer/blob/master/Waifu2x_Colab_Implementation.ipynb\" target=\"_parent\"><img src=\"https://colab.research.google.com/assets/colab-badge.svg\" alt=\"Open In Colab\"/></a>"
      ]
    },
    {
      "cell_type": "code",
      "metadata": {
        "id": "1M7PHpNbxCte",
        "outputId": "a8050c19-b66b-4664-ac46-a98a1de4c244",
        "colab": {
          "base_uri": "https://localhost:8080/"
        }
      },
      "source": [
        "!pip install -q cupy-cuda100\n",
        "!pip install -q futures\n",
        "!pip install -q chainer"
      ],
      "execution_count": 1,
      "outputs": [
        {
          "output_type": "stream",
          "name": "stdout",
          "text": [
            "\u001b[K     |████████████████████████████████| 58.9 MB 1.3 MB/s \n",
            "\u001b[?25h\u001b[33mWARNING: Discarding https://files.pythonhosted.org/packages/55/db/97c1ca37edab586a1ae03d6892b6633d8eaa23b23ac40c7e5bbc55423c78/futures-3.0.5.tar.gz#sha256=0542525145d5afc984c88f914a0c85c77527f65946617edb5274f72406f981df (from https://pypi.org/simple/futures/). Command errored out with exit status 1: python setup.py egg_info Check the logs for full command output.\u001b[0m\n",
            "\u001b[33mWARNING: Discarding https://files.pythonhosted.org/packages/8d/73/b5fff618482bc06c9711e7cdc0d5d7eb1904d35898f48f2d7f9696b08bef/futures-3.0.4.tar.gz#sha256=19485d83f7bd2151c0aeaf88fbba3ee50dadfb222ffc3b66a344ef4952b782a3 (from https://pypi.org/simple/futures/). Command errored out with exit status 1: python setup.py egg_info Check the logs for full command output.\u001b[0m\n",
            "\u001b[33mWARNING: Discarding https://files.pythonhosted.org/packages/4c/dc/f9473006d4c9c52d4a4e977173fbcbfb1a8ef3a57e32e885edf994fd4a45/futures-3.0.3.tar.gz#sha256=2fe2342bb4fe8b8e217f0d21b5921cbe5408bf966d9f92025e707e881b198bed (from https://pypi.org/simple/futures/). Command errored out with exit status 1: python setup.py egg_info Check the logs for full command output.\u001b[0m\n",
            "\u001b[33mWARNING: Discarding https://files.pythonhosted.org/packages/f8/e7/fc0fcbeb9193ba2d4de00b065e7fd5aecd0679e93ce95a07322b2b1434f4/futures-3.0.2.tar.gz#sha256=dc3fc91508e49e0fd2f8625f0132d16e49c80f882e7e1d565c56b0d5dfbae257 (from https://pypi.org/simple/futures/). Command errored out with exit status 1: python setup.py egg_info Check the logs for full command output.\u001b[0m\n",
            "\u001b[33mWARNING: Discarding https://files.pythonhosted.org/packages/b2/2c/6b6a57379e47031c6f52e625e0e2b8f6702a8d1f61b6e0daee391e82c187/futures-3.0.1.tar.gz#sha256=f78f2ef458639d72a625cf9c7643cf5442bb222ac11c12bcc445c6ad1cd862e2 (from https://pypi.org/simple/futures/). Command errored out with exit status 1: python setup.py egg_info Check the logs for full command output.\u001b[0m\n",
            "\u001b[33mWARNING: Discarding https://files.pythonhosted.org/packages/ea/c9/35287369718fc05059e7a9d0d73c53745fe981010b4185b3858e7d46eff1/futures-3.0.0.tar.gz#sha256=d9cd7bb09aa01f0e4940af64c31fbd7045098b7b4354420d7838ea39e8b86ee3 (from https://pypi.org/simple/futures/). Command errored out with exit status 1: python setup.py egg_info Check the logs for full command output.\u001b[0m\n",
            "\u001b[K     |████████████████████████████████| 1.0 MB 32.4 MB/s \n",
            "\u001b[?25h  Building wheel for chainer (setup.py) ... \u001b[?25l\u001b[?25hdone\n"
          ]
        }
      ]
    },
    {
      "cell_type": "code",
      "metadata": {
        "id": "uNLLgxGvxCm7",
        "outputId": "524412c2-9279-4c0b-eea8-0a84479a0289",
        "colab": {
          "base_uri": "https://localhost:8080/"
        }
      },
      "source": [
        "!git clone -l -s https://github.com/tsurumeso/waifu2x-chainer.git waifu2x-chainer\n",
        "%cd waifu2x-chainer"
      ],
      "execution_count": 2,
      "outputs": [
        {
          "output_type": "stream",
          "name": "stdout",
          "text": [
            "Cloning into 'waifu2x-chainer'...\n",
            "warning: --local is ignored\n",
            "remote: Enumerating objects: 1477, done.\u001b[K\n",
            "remote: Counting objects: 100% (3/3), done.\u001b[K\n",
            "remote: Compressing objects: 100% (3/3), done.\u001b[K\n",
            "remote: Total 1477 (delta 0), reused 0 (delta 0), pack-reused 1474\u001b[K\n",
            "Receiving objects: 100% (1477/1477), 185.56 MiB | 16.57 MiB/s, done.\n",
            "Resolving deltas: 100% (833/833), done.\n",
            "/content/waifu2x-chainer\n"
          ]
        }
      ]
    },
    {
      "cell_type": "code",
      "metadata": {
        "id": "4-ae0mdByus0",
        "outputId": "37d616d7-151c-4edf-ae84-4bb429d13e8a",
        "colab": {
          "base_uri": "https://localhost:8080/"
        }
      },
      "source": [
        "import google.colab.files\n",
        "%cd /content\n",
        "%mkdir Input_images\n",
        "%mkdir Output_images\n",
        "%cd /content/Input_images"
      ],
      "execution_count": 3,
      "outputs": [
        {
          "output_type": "stream",
          "name": "stdout",
          "text": [
            "/content\n",
            "/content/Input_images\n"
          ]
        }
      ]
    },
    {
      "cell_type": "code",
      "source": [
        "from google.colab import drive\n",
        "drive.mount('/content/drive')"
      ],
      "metadata": {
        "id": "V_UCR1OigL-W",
        "outputId": "64fdaead-2991-4947-bb43-388cd3f5d7d7",
        "colab": {
          "base_uri": "https://localhost:8080/"
        }
      },
      "execution_count": 4,
      "outputs": [
        {
          "output_type": "stream",
          "name": "stdout",
          "text": [
            "Mounted at /content/drive\n"
          ]
        }
      ]
    },
    {
      "cell_type": "code",
      "metadata": {
        "id": "pLnJpc4lpNtM",
        "colab": {
          "base_uri": "https://localhost:8080/"
        },
        "outputId": "b9fc31b3-fe3b-4387-bc05-2376ed3c2f93"
      },
      "source": [
        "%cd /content/waifu2x-chainer\n",
        "%pwd\n",
        "!python waifu2x.py -m noise_scale -n 3 -i /content/Input_images -o /content/Output_images -g 0 -a 0"
      ],
      "execution_count": 5,
      "outputs": [
        {
          "output_type": "stream",
          "name": "stdout",
          "text": [
            "/content/waifu2x-chainer\n",
            "/usr/local/lib/python3.7/dist-packages/chainer/_environment_check.py:75: UserWarning: \n",
            "--------------------------------------------------------------------------------\n",
            "CuPy (cupy-cuda111) version 9.4.0 may not be compatible with this version of Chainer.\n",
            "Please consider installing the supported version by running:\n",
            "  $ pip install 'cupy-cuda111>=7.7.0,<8.0.0'\n",
            "\n",
            "See the following page for more details:\n",
            "  https://docs.cupy.dev/en/latest/install.html\n",
            "--------------------------------------------------------------------------------\n",
            "\n",
            "  requirement=requirement, help=help))\n",
            "/usr/local/lib/python3.7/dist-packages/chainer/_environment_check.py:75: UserWarning: \n",
            "--------------------------------------------------------------------------------\n",
            "CuPy (cupy-cuda100) version 9.6.0 may not be compatible with this version of Chainer.\n",
            "Please consider installing the supported version by running:\n",
            "  $ pip install 'cupy-cuda100>=7.7.0,<8.0.0'\n",
            "\n",
            "See the following page for more details:\n",
            "  https://docs.cupy.dev/en/latest/install.html\n",
            "--------------------------------------------------------------------------------\n",
            "\n",
            "  requirement=requirement, help=help))\n",
            "/usr/local/lib/python3.7/dist-packages/chainer/_environment_check.py:93: UserWarning: \n",
            "--------------------------------------------------------------------------------\n",
            "Multiple installations of CuPy package has been detected.\n",
            "You should select only one package from from ['cupy-cuda120', 'cupy-cuda116', 'cupy-cuda115', 'cupy-cuda114', 'cupy-cuda113', 'cupy-cuda112', 'cupy-cuda111', 'cupy-cuda110', 'cupy-cuda102', 'cupy-cuda101', 'cupy-cuda100', 'cupy-cuda92', 'cupy-cuda91', 'cupy-cuda90', 'cupy-cuda80', 'cupy'].\n",
            "Follow these steps to resolve this issue:\n",
            "  1. `pip list` to list CuPy packages installed\n",
            "  2. `pip uninstall <package name>` to uninstall all CuPy packages\n",
            "  3. `pip install <package name>` to install the proper one\n",
            "--------------------------------------------------------------------------------\n",
            "\n",
            "  '''.format(name=name, pkgs=pkgs))\n",
            "Level 3 denoising... OK\n",
            "2.0x scaling... OK\n",
            "Elapsed time: 13.902441 sec\n",
            "Saved as '/content/Output_images/page012.png'\n",
            "Level 3 denoising... OK\n",
            "2.0x scaling... OK\n",
            "Elapsed time: 9.392656 sec\n",
            "Saved as '/content/Output_images/page007f.png'\n",
            "Level 3 denoising... OK\n",
            "2.0x scaling... OK\n",
            "Elapsed time: 10.077628 sec\n",
            "Saved as '/content/Output_images/page015.png'\n",
            "Level 3 denoising... OK\n",
            "2.0x scaling... OK\n",
            "Elapsed time: 9.602407 sec\n",
            "Saved as '/content/Output_images/page011.png'\n",
            "Level 3 denoising... OK\n",
            "2.0x scaling... OK\n",
            "Elapsed time: 8.865253 sec\n",
            "Saved as '/content/Output_images/page002.png'\n",
            "Level 3 denoising... OK\n",
            "2.0x scaling... OK\n",
            "Elapsed time: 11.460665 sec\n",
            "Saved as '/content/Output_images/page016.png'\n",
            "Level 3 denoising... OK\n",
            "2.0x scaling... OK\n",
            "Elapsed time: 11.149928 sec\n",
            "Saved as '/content/Output_images/page009.png'\n",
            "Level 3 denoising... OK\n",
            "2.0x scaling... OK\n",
            "Elapsed time: 10.661189 sec\n",
            "Saved as '/content/Output_images/page013f.png'\n",
            "Level 3 denoising... OK\n",
            "2.0x scaling... OK\n",
            "Elapsed time: 11.684469 sec\n",
            "Saved as '/content/Output_images/page005.png'\n",
            "Level 3 denoising... OK\n",
            "2.0x scaling... OK\n",
            "Elapsed time: 11.113519 sec\n",
            "Saved as '/content/Output_images/page014.png'\n",
            "Level 3 denoising... OK\n",
            "2.0x scaling... OK\n",
            "Elapsed time: 9.694177 sec\n",
            "Saved as '/content/Output_images/page001.png'\n",
            "Level 3 denoising... OK\n",
            "2.0x scaling... OK\n",
            "Elapsed time: 10.069286 sec\n",
            "Saved as '/content/Output_images/page008.png'\n",
            "Level 3 denoising... OK\n",
            "2.0x scaling... OK\n",
            "Elapsed time: 11.889446 sec\n",
            "Saved as '/content/Output_images/page006.png'\n",
            "Level 3 denoising... OK\n",
            "2.0x scaling... OK\n",
            "Elapsed time: 10.668656 sec\n",
            "Saved as '/content/Output_images/page004f.png'\n",
            "Level 3 denoising... OK\n",
            "2.0x scaling... OK\n",
            "Elapsed time: 10.267585 sec\n",
            "Saved as '/content/Output_images/page003.png'\n",
            "Level 3 denoising... OK\n",
            "2.0x scaling... OK\n",
            "Elapsed time: 10.894236 sec\n",
            "Saved as '/content/Output_images/page010.png'\n",
            "Level 3 denoising... OK\n",
            "2.0x scaling... OK\n",
            "Elapsed time: 4.578833 sec\n",
            "Saved as '/content/Output_images/page017.png'\n"
          ]
        }
      ]
    },
    {
      "cell_type": "markdown",
      "metadata": {
        "id": "0jaNsBPLsznL"
      },
      "source": [
        ""
      ]
    },
    {
      "cell_type": "code",
      "metadata": {
        "id": "GRvBEsStz0iv"
      },
      "source": [
        "!nvcc --version\n",
        "!pip install cupy-cuda100"
      ],
      "execution_count": null,
      "outputs": []
    },
    {
      "cell_type": "code",
      "metadata": {
        "id": "OHxcW04vpwRy",
        "colab": {
          "base_uri": "https://localhost:8080/"
        },
        "outputId": "dc534ddb-0fb9-4886-8a19-0c442c2dda09"
      },
      "source": [
        "!zip -r /content/f_1.zip /content/Output_images"
      ],
      "execution_count": 6,
      "outputs": [
        {
          "output_type": "stream",
          "name": "stdout",
          "text": [
            "  adding: content/Output_images/ (stored 0%)\n",
            "  adding: content/Output_images/page009.png (deflated 0%)\n",
            "  adding: content/Output_images/page007f.png (deflated 1%)\n",
            "  adding: content/Output_images/page001.png (deflated 1%)\n",
            "  adding: content/Output_images/page011.png (deflated 0%)\n",
            "  adding: content/Output_images/page010.png (deflated 1%)\n",
            "  adding: content/Output_images/page003.png (deflated 1%)\n",
            "  adding: content/Output_images/page013f.png (deflated 0%)\n",
            "  adding: content/Output_images/page005.png (deflated 0%)\n",
            "  adding: content/Output_images/page012.png (deflated 1%)\n",
            "  adding: content/Output_images/page002.png (deflated 1%)\n",
            "  adding: content/Output_images/page004f.png (deflated 0%)\n",
            "  adding: content/Output_images/page008.png (deflated 1%)\n",
            "  adding: content/Output_images/page014.png (deflated 0%)\n",
            "  adding: content/Output_images/page017.png (deflated 0%)\n",
            "  adding: content/Output_images/page015.png (deflated 0%)\n",
            "  adding: content/Output_images/page006.png (deflated 0%)\n",
            "  adding: content/Output_images/page016.png (deflated 0%)\n"
          ]
        }
      ]
    }
  ]
}